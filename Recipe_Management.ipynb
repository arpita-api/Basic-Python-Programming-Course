{
  "nbformat": 4,
  "nbformat_minor": 0,
  "metadata": {
    "colab": {
      "provenance": [],
      "authorship_tag": "ABX9TyMZrUOLDrMM0gNjRCqIkS58",
      "include_colab_link": true
    },
    "kernelspec": {
      "name": "python3",
      "display_name": "Python 3"
    },
    "language_info": {
      "name": "python"
    }
  },
  "cells": [
    {
      "cell_type": "markdown",
      "metadata": {
        "id": "view-in-github",
        "colab_type": "text"
      },
      "source": [
        "<a href=\"https://colab.research.google.com/github/arpita-api/Basic-Python-Programming-Course/blob/BPP3_Project/Recipe_Management.ipynb\" target=\"_parent\"><img src=\"https://colab.research.google.com/assets/colab-badge.svg\" alt=\"Open In Colab\"/></a>"
      ]
    },
    {
      "cell_type": "markdown",
      "source": [
        "Here csv file is uploaded."
      ],
      "metadata": {
        "id": "exuCkffMJz4K"
      }
    },
    {
      "cell_type": "code",
      "source": [
        "import csv\n",
        "Recipe = list()\n",
        "with open('/content/Recipe.csv', mode ='r', encoding='utf-8-sig')as file:\n",
        "  csvFile = csv.reader(file)\n",
        "  for lines in csvFile:\n",
        "    Recipe.append(lines)\n",
        "    print(lines)"
      ],
      "metadata": {
        "id": "OtG6eBIR4QUB",
        "colab": {
          "base_uri": "https://localhost:8080/"
        },
        "outputId": "701b3b11-d0f6-481d-ede2-133e4bcc7760"
      },
      "execution_count": 3,
      "outputs": [
        {
          "output_type": "stream",
          "name": "stdout",
          "text": [
            "['Recipe ID', 'Recipe Name', 'Ingradients', 'Steps', 'Cuisine', 'Preparation Time']\n",
            "['101', 'Payesh', 'Rice, Milk, Sugar, Cardamom, Nuts', 'Boil milk, Add rice, Stir and cook, Add sugar and nuts', 'Bengali', '45 min']\n",
            "['102', 'Chicken Biryani', 'Chicken, Rice, Spices, Yogurt', 'Marinate chicken, Cook rice, Layer & cook together', 'Mughlai', '60 min']\n",
            "['103', 'Sushi', 'Rice, Nori, Fish, Vegetables', 'Prepare rice, Roll ingredients in nori, Slice', 'Japanese', '45 min']\n",
            "['104', 'Spaghetti Carbonara', 'Pasta, Eggs, Cheese, Pancetta, Pepper', 'Cook pasta, Fry pancetta, Mix with eggs and cheese', 'Italian', '30 min']\n",
            "['105', 'Masoor Dal', 'Lentils, Spices, Garlic, Onion', 'Boil lentils, Fry spices, Mix and simmer', 'Bengali', '40 min']\n"
          ]
        }
      ]
    },
    {
      "cell_type": "markdown",
      "source": [
        "Add New Recipes:\n",
        "Allow users to input new recipes with fields like recipe name, ingredients, cooking steps, cuisine, and preparation time.\n",
        "Save the new recipe to the CSV file.\n"
      ],
      "metadata": {
        "id": "Cp5uBD2FJu-m"
      }
    },
    {
      "cell_type": "code",
      "source": [
        "import csv\n",
        "def add_recipe(file_path):\n",
        "    recipe_id = input(\"Enter recipe ID: \")\n",
        "    recipe_name = input(\"Enter recipe name: \")\n",
        "    ingredients = input(\"Enter ingredients (separated by commas): \")\n",
        "    cooking_steps = input(\"Enter cooking steps: \")\n",
        "    cuisine = input(\"Enter cuisine type: \")\n",
        "    prep_time = input(\"Enter preparation time (in minutes): \")\n",
        "\n",
        "    with open(file_path, mode='a', newline='', encoding='utf-8') as file:\n",
        "        writer = csv.writer(file)\n",
        "        writer.writerow([recipe_id, recipe_name, ingredients, cooking_steps, cuisine, prep_time])\n",
        "\n",
        "    print(\"Recipe added successfully!\")\n",
        "file_path='/content/Recipe.csv'\n",
        "add_recipe(file_path)\n",
        "\n",
        "#to show the updated file\n",
        "\n",
        "def view_recipes(file_path):\n",
        "    with open(file_path, mode='r', encoding='utf-8-sig') as file:\n",
        "        reader = csv.reader(file)\n",
        "        for row in reader:\n",
        "            print(row)\n",
        "\n",
        "\n",
        "view_recipes(\"/content/Recipe.csv\")\n"
      ],
      "metadata": {
        "colab": {
          "base_uri": "https://localhost:8080/"
        },
        "id": "lOWq_53lZq7d",
        "outputId": "1c0e9a74-10e7-4d80-8fc6-bcec9cda5ebd"
      },
      "execution_count": 14,
      "outputs": [
        {
          "output_type": "stream",
          "name": "stdout",
          "text": [
            "Enter recipe ID: 106\n",
            "Enter recipe name: egg fry\n",
            "Enter ingredients (separated by commas): egg, onion, oil ,pepper\n",
            "Enter cooking steps: mix egg with pepper and onion, fry with oil\n",
            "Enter cuisine type: Asian\n",
            "Enter preparation time (in minutes): 3 min\n",
            "Recipe added successfully!\n",
            "['Recipe ID', 'Recipe Name', 'Ingradients', 'Steps', 'Cuisine', 'Preparation Time']\n",
            "['101', 'Payesh', 'Rice, Milk, Sugar, Cardamom, Nuts', 'Boil milk, Add rice, Stir and cook, Add sugar and nuts', 'Bengali', '45 min']\n",
            "['102', 'Chicken Biryani', 'Chicken, Rice, Spices, Yogurt', 'Marinate chicken, Cook rice, Layer & cook together', 'Mughlai', '60 min']\n",
            "['103', 'Sushi', 'Rice, Nori, Fish, Vegetables', 'Prepare rice, Roll ingredients in nori, Slice', 'Japanese', '45 min']\n",
            "['104', 'Spaghetti Carbonara', 'Pasta, Eggs, Cheese, Pancetta, Pepper', 'Cook pasta, Fry pancetta, Mix with eggs and cheese', 'Italian', '30 min']\n",
            "['105', 'Masoor Dal', 'Lentils, Spices, Garlic, Onion', 'Boil lentils, Fry spices, Mix and simmer', 'Bengali', '40 min']\n",
            "['Egg fry', 'Egg, pepper, oil', 'put oil, mix egg, fry', 'Asian', '3 min']\n",
            "['Mixed Vegetable ', 'chopped Vegetables', 'fry the vegetables, add species, add little water', 'Asian', '20 min']\n",
            "['Fuchka', 'Fried Fuchka, Potato, Lentil, Chutney, spices', 'get ready the fuchka stuffing with species, potato and lentil, put it iinto fuchka, serve with chutney', 'Bengali', '30 min']\n",
            "['106', 'egg fry', 'egg, onion, oil ,pepper', 'mix egg with pepper and onion, fry with oil', 'Asian', '3 min']\n"
          ]
        }
      ]
    },
    {
      "cell_type": "markdown",
      "source": [
        "Update Recipes:\n",
        "Allow users to edit existing recipes by selecting a recipe ID or name.\n",
        "Update any fields such as ingredients, steps, or preparation time.\n"
      ],
      "metadata": {
        "id": "UG6m__zJJqgv"
      }
    },
    {
      "cell_type": "code",
      "source": [
        "def update_recipe(file_path):\n",
        "    recipes = []\n",
        "    recipe_id = input(\"Enter the recipe ID to update: \")\n",
        "    found = False\n",
        "\n",
        "    with open(file_path, mode='r', encoding='utf-8') as file:\n",
        "        reader = csv.reader(file)\n",
        "        recipes = [row for row in reader]\n",
        "\n",
        "    for row in recipes:\n",
        "        if row and row[0] == recipe_id:\n",
        "            print(\"Current details:\", row)\n",
        "            row[1] = input(\"Enter new recipe name (leave blank to keep unchanged): \") or row[1]\n",
        "            row[2] = input(\"Enter new ingredients (leave blank to keep unchanged): \") or row[2]\n",
        "            row[3] = input(\"Enter new cooking steps (leave blank to keep unchanged): \") or row[3]\n",
        "            row[4] = input(\"Enter new cuisine type (leave blank to keep unchanged): \") or row[4]\n",
        "            row[5\n",
        "                ] = input(\"Enter new preparation time (leave blank to keep unchanged): \") or row[5]\n",
        "            found = True\n",
        "\n",
        "    if found:\n",
        "        with open(file_path, mode='w', newline='', encoding='utf-8') as file:\n",
        "            writer = csv.writer(file)\n",
        "            writer.writerows(recipes)\n",
        "        print(\"Recipe updated successfully!\")\n",
        "    else:\n",
        "        print(\"Recipe not found.\")\n",
        "\n",
        "# Example usage\n",
        "file_path = \"/content/Recipe.csv\"\n",
        "\n",
        "update_recipe(file_path)"
      ],
      "metadata": {
        "colab": {
          "base_uri": "https://localhost:8080/"
        },
        "id": "eE7UCx8BxBSL",
        "outputId": "ebec7c75-91a2-46a1-9643-9e8720ce053d"
      },
      "execution_count": 15,
      "outputs": [
        {
          "output_type": "stream",
          "name": "stdout",
          "text": [
            "Enter the recipe ID to update: 106\n",
            "Current details: ['106', 'egg fry', 'egg, onion, oil ,pepper', 'mix egg with pepper and onion, fry with oil', 'Asian', '3 min']\n",
            "Enter new recipe name (leave blank to keep unchanged): \n",
            "Enter new ingredients (leave blank to keep unchanged): \n",
            "Enter new cooking steps (leave blank to keep unchanged): \n",
            "Enter new cuisine type (leave blank to keep unchanged): \n",
            "Enter new preparation time (leave blank to keep unchanged): \n",
            "Recipe updated successfully!\n"
          ]
        }
      ]
    },
    {
      "cell_type": "markdown",
      "source": [
        "Delete Recipes:\n",
        "Allow users to delete a recipe by its ID or name.\n",
        "Update the CSV file after deletion.\n"
      ],
      "metadata": {
        "id": "hSek0x6eJoMN"
      }
    },
    {
      "cell_type": "code",
      "source": [
        "def delete_recipe(file_path):\n",
        "    recipes = []\n",
        "    recipe_id = input(\"Enter the recipe id to delete: \")\n",
        "    found = False\n",
        "\n",
        "    with open(file_path, mode='r', encoding='utf-8') as file:\n",
        "        reader = csv.reader(file)\n",
        "        recipes = [row for row in reader]\n",
        "\n",
        "    new_recipes = [row for row in recipes if row and row[0] != recipe_id]\n",
        "\n",
        "    if len(new_recipes) < len(recipes):\n",
        "        found = True\n",
        "        with open(file_path, mode='w', newline='', encoding='utf-8') as file:\n",
        "            writer = csv.writer(file)\n",
        "            writer.writerows(new_recipes)\n",
        "        print(\"Recipe deleted successfully!\")\n",
        "    else:\n",
        "        print(\"Recipe not found.\")\n",
        "\n",
        "file_path=\"/content/Recipe.csv\"\n",
        "\n",
        "delete_recipe(file_path)\n"
      ],
      "metadata": {
        "colab": {
          "base_uri": "https://localhost:8080/"
        },
        "id": "Vti9WDVw0_FR",
        "outputId": "57f2c796-67fa-47f2-f6ac-64fe3b7777c9"
      },
      "execution_count": 19,
      "outputs": [
        {
          "output_type": "stream",
          "name": "stdout",
          "text": [
            "Enter the recipe name to delete: Mixed Vegetable \n",
            "Recipe deleted successfully!\n"
          ]
        }
      ]
    },
    {
      "cell_type": "markdown",
      "source": [
        "Search by Recipe Name:\n",
        "Allow users to search for recipes by name.\n",
        "Display matching results.\n"
      ],
      "metadata": {
        "id": "kdYAP-cGJhBo"
      }
    },
    {
      "cell_type": "code",
      "source": [
        "def search_recipe(file_path):\n",
        "    recipe_name = input(\"Enter the recipe name to search: \")\n",
        "    found = False\n",
        "\n",
        "    with open(file_path, mode='r', encoding='utf-8') as file:\n",
        "        reader = csv.reader(file)\n",
        "        for row in reader:\n",
        "            if row and row[1].lower() == recipe_name.lower():\n",
        "                print(\"Recipe found:\", row)\n",
        "                found = True\n",
        "\n",
        "    if not found:\n",
        "        print(\"Recipe not found.\")\n",
        "file_path=\"/content/Recipe.csv\"\n",
        "search_recipe(file_path)"
      ],
      "metadata": {
        "colab": {
          "base_uri": "https://localhost:8080/"
        },
        "id": "Ldk-BsTU2-Nu",
        "outputId": "67b5d06a-f434-46b6-a3d7-84082991e4b0"
      },
      "execution_count": 20,
      "outputs": [
        {
          "output_type": "stream",
          "name": "stdout",
          "text": [
            "Enter the recipe name to search: Payesh\n",
            "Recipe found: ['101', 'Payesh', 'Rice, Milk, Sugar, Cardamom, Nuts', 'Boil milk, Add rice, Stir and cook, Add sugar and nuts', 'Bengali', '45 min']\n"
          ]
        }
      ]
    },
    {
      "cell_type": "markdown",
      "source": [
        "Search by Cuisine:\n",
        "Allow filtering recipes by cuisine type (e.g., Italian, Indian, Chinese).\n",
        "Display recipes that match the cuisine.\n"
      ],
      "metadata": {
        "id": "NAydf_QDJWNv"
      }
    },
    {
      "cell_type": "code",
      "source": [
        "def search_by_cuisine(file_path):\n",
        "    cuisine_type = input(\"Enter the cuisine type to search: \")\n",
        "    found = False\n",
        "\n",
        "    with open(file_path, mode='r', encoding='utf-8') as file:\n",
        "        reader = csv.reader(file)\n",
        "        for row in reader:\n",
        "            if row and row[4].lower() == cuisine_type.lower():\n",
        "                print(\"Matching Recipe:\", row)\n",
        "                found = True\n",
        "\n",
        "    if not found:\n",
        "        print(\"No recipes found for this cuisine type.\")\n",
        "file_path=\"/content/Recipe.csv\"\n",
        "search_by_cuisine(file_path)"
      ],
      "metadata": {
        "colab": {
          "base_uri": "https://localhost:8080/"
        },
        "id": "Xd2p80Iz6_cK",
        "outputId": "1e31b533-d419-42bd-88bd-dc731bf9d9a0"
      },
      "execution_count": 21,
      "outputs": [
        {
          "output_type": "stream",
          "name": "stdout",
          "text": [
            "Enter the cuisine type to search: Bengali\n",
            "Matching Recipe: ['101', 'Payesh', 'Rice, Milk, Sugar, Cardamom, Nuts', 'Boil milk, Add rice, Stir and cook, Add sugar and nuts', 'Bengali', '45 min']\n",
            "Matching Recipe: ['105', 'Masoor Dal', 'Lentils, Spices, Garlic, Onion', 'Boil lentils, Fry spices, Mix and simmer', 'Bengali', '40 min']\n"
          ]
        }
      ]
    },
    {
      "cell_type": "markdown",
      "source": [
        "Search by Ingredients:\n",
        "Allow users to search for recipes by ingredients (e.g., \"chicken,\" \"garlic\").\n",
        "Find recipes containing specified ingredients.\n"
      ],
      "metadata": {
        "id": "UDVPyHx7JRSE"
      }
    },
    {
      "cell_type": "code",
      "source": [
        "def search_by_ingredient(file_path):\n",
        "    ingredient = input(\"Enter an ingredient to search for: \").lower()\n",
        "    found = False\n",
        "\n",
        "    with open(file_path, mode='r', encoding='utf-8') as file:\n",
        "        reader = csv.reader(file)\n",
        "        for row in reader:\n",
        "            if row and ingredient in row[2].lower():\n",
        "                print(\"Recipe containing ingredient:\", row)\n",
        "                found = True\n",
        "\n",
        "    if not found:\n",
        "        print(\"No recipes found with this ingredient.\")\n",
        "\n",
        "file_path=\"/content/Recipe.csv\"\n",
        "search_by_ingredient(file_path)"
      ],
      "metadata": {
        "colab": {
          "base_uri": "https://localhost:8080/"
        },
        "id": "fK8Qj3Vd8HeE",
        "outputId": "fc53fd7e-9169-4ae9-f7b2-faba84ba1b41"
      },
      "execution_count": 22,
      "outputs": [
        {
          "output_type": "stream",
          "name": "stdout",
          "text": [
            "Enter an ingredient to search for: oil\n",
            "Recipe containing ingredient: ['106', 'egg fry', 'egg, onion, oil ,pepper', 'mix egg with pepper and onion, fry with oil', 'Asian', '3 min']\n"
          ]
        }
      ]
    },
    {
      "cell_type": "markdown",
      "source": [
        "Filter by Preparation Time:\n",
        "Filter recipes based on preparation time (e.g., quick recipes under 30 minutes).\n"
      ],
      "metadata": {
        "id": "as_WK7u4JLa5"
      }
    },
    {
      "cell_type": "code",
      "source": [
        "import re\n",
        "def filter_by_prep_time(file_path, max_time=30):\n",
        "    quick_recipes = []\n",
        "\n",
        "    with open(file_path, mode='r', encoding='utf-8') as file:\n",
        "        reader = csv.reader(file)\n",
        "\n",
        "\n",
        "        for row in reader:\n",
        "\n",
        "            if row and len(row) >= 6:\n",
        "                prep_time = row[5].strip()\n",
        "\n",
        "\n",
        "                match = re.search(r\"(\\d+)\", prep_time)  # Look for a number at the beginning\n",
        "\n",
        "                if match:\n",
        "                    prep_time_value = int(match.group(1))  # Get the number as an integer\n",
        "\n",
        "                    if prep_time_value <= max_time:\n",
        "                        quick_recipes.append(row)\n",
        "                    else:\n",
        "                        print(f\"Skipping row (prep time > {max_time}): {row}\")\n",
        "                else:\n",
        "                    print(f\"Skipping row due to invalid prep_time format: {row}\")\n",
        "            else:\n",
        "                print(f\"Skipping incomplete row: {row}\")\n",
        "\n",
        "    if quick_recipes:\n",
        "        print(f\"\\nRecipes with preparation time under {max_time} minutes:\")\n",
        "        for recipe in quick_recipes:\n",
        "            print(recipe)\n",
        "    else:\n",
        "        print(f\"No recipes found with preparation time under {max_time} minutes.\")\n",
        "\n",
        "# Example usage:\n",
        "file_path =\"/content/Recipe.csv\"\n",
        "filter_by_prep_time(file_path)\n"
      ],
      "metadata": {
        "colab": {
          "base_uri": "https://localhost:8080/"
        },
        "id": "GH-9bDLB9Qoq",
        "outputId": "9154d426-091f-4807-d3cb-919ae1286d35"
      },
      "execution_count": 33,
      "outputs": [
        {
          "output_type": "stream",
          "name": "stdout",
          "text": [
            "Skipping row due to invalid prep_time format: ['\\ufeffRecipe ID', 'Recipe Name', 'Ingradients', 'Steps', 'Cuisine', 'Preparation Time']\n",
            "Skipping row (prep time > 30): ['101', 'Payesh', 'Rice, Milk, Sugar, Cardamom, Nuts', 'Boil milk, Add rice, Stir and cook, Add sugar and nuts', 'Bengali', '45 min']\n",
            "Skipping row (prep time > 30): ['102', 'Chicken Biryani', 'Chicken, Rice, Spices, Yogurt', 'Marinate chicken, Cook rice, Layer & cook together', 'Mughlai', '60 min']\n",
            "Skipping row (prep time > 30): ['103', 'Sushi', 'Rice, Nori, Fish, Vegetables', 'Prepare rice, Roll ingredients in nori, Slice', 'Japanese', '45 min']\n",
            "Skipping row (prep time > 30): ['105', 'Masoor Dal', 'Lentils, Spices, Garlic, Onion', 'Boil lentils, Fry spices, Mix and simmer', 'Bengali', '40 min']\n",
            "\n",
            "Recipes with preparation time under 30 minutes:\n",
            "['104', 'Spaghetti Carbonara', 'Pasta, Eggs, Cheese, Pancetta, Pepper', 'Cook pasta, Fry pancetta, Mix with eggs and cheese', 'Italian', '30 min']\n",
            "['106', 'egg fry', 'egg, onion, oil ,pepper', 'mix egg with pepper and onion, fry with oil', 'Asian', '3 min']\n"
          ]
        }
      ]
    },
    {
      "cell_type": "markdown",
      "source": [
        "User Interface\n",
        "Create an interactive, menu-driven interface with the following options:\n",
        "Add New Recipe:\n",
        "Input details for a new recipe (name, ingredients, steps, cuisine, preparation time).\n",
        "Update Existing Recipe:\n",
        "Modify an existing recipe’s details by searching for it.\n",
        "Delete Recipe:\n",
        "Remove an unwanted recipe by searching for it.\n",
        "Search Recipes:\n",
        "Search by name, cuisine, ingredients, or preparation time\n"
      ],
      "metadata": {
        "id": "715Wr6NfIP_a"
      }
    },
    {
      "cell_type": "code",
      "source": [
        "import csv\n",
        "import re\n",
        "\n",
        "# Add a new recipe\n",
        "def add_recipe(file_path):\n",
        "    recipe_id = input(\"Enter recipe ID: \")\n",
        "    recipe_name = input(\"Enter recipe name: \")\n",
        "    ingredients = input(\"Enter ingredients (separated by commas): \")\n",
        "    cooking_steps = input(\"Enter cooking steps: \")\n",
        "    cuisine = input(\"Enter cuisine type: \")\n",
        "    prep_time = input(\"Enter preparation time (in minutes): \")\n",
        "\n",
        "    with open(file_path, mode='a', newline='', encoding='utf-8') as file:\n",
        "        writer = csv.writer(file)\n",
        "        writer.writerow([recipe_id, recipe_name, ingredients, cooking_steps, cuisine, prep_time])\n",
        "\n",
        "    print(\"Recipe added successfully!\")\n",
        "\n",
        "# Update an existing recipe\n",
        "def update_recipe(file_path):\n",
        "    recipes = []\n",
        "    recipe_id = input(\"Enter the recipe ID to update: \")\n",
        "    found = False\n",
        "\n",
        "    with open(file_path, mode='r', encoding='utf-8') as file:\n",
        "        reader = csv.reader(file)\n",
        "        recipes = [row for row in reader]\n",
        "\n",
        "    for row in recipes:\n",
        "        if row and row[0] == recipe_id:\n",
        "            print(\"Current details:\", row)\n",
        "            row[1] = input(\"Enter new recipe name (leave blank to keep unchanged): \") or row[1]\n",
        "            row[2] = input(\"Enter new ingredients (leave blank to keep unchanged): \") or row[2]\n",
        "            row[3] = input(\"Enter new cooking steps (leave blank to keep unchanged): \") or row[3]\n",
        "            row[4] = input(\"Enter new cuisine type (leave blank to keep unchanged): \") or row[4]\n",
        "            row[5] = input(\"Enter new preparation time (leave blank to keep unchanged): \") or row[5]\n",
        "            found = True\n",
        "\n",
        "    if found:\n",
        "        with open(file_path, mode='w', newline='', encoding='utf-8') as file:\n",
        "            writer = csv.writer(file)\n",
        "            writer.writerows(recipes)\n",
        "        print(\"Recipe updated successfully!\")\n",
        "    else:\n",
        "        print(\"Recipe not found.\")\n",
        "\n",
        "# Delete a recipe\n",
        "def delete_recipe(file_path):\n",
        "    recipes = []\n",
        "    recipe_id = input(\"Enter the recipe ID to delete: \")\n",
        "    found = False\n",
        "\n",
        "    with open(file_path, mode='r', encoding='utf-8') as file:\n",
        "        reader = csv.reader(file)\n",
        "        recipes = [row for row in reader]\n",
        "\n",
        "    new_recipes = [row for row in recipes if row and row[0] != recipe_id]\n",
        "\n",
        "    if len(new_recipes) < len(recipes):\n",
        "        found = True\n",
        "        with open(file_path, mode='w', newline='', encoding='utf-8') as file:\n",
        "            writer = csv.writer(file)\n",
        "            writer.writerows(new_recipes)\n",
        "        print(\"Recipe deleted successfully!\")\n",
        "    else:\n",
        "        print(\"Recipe not found.\")\n",
        "\n",
        "# Search recipes by name, cuisine, ingredients, or preparation time\n",
        "def search_recipes(file_path):\n",
        "    print(\"\\nSearch by:\")\n",
        "    print(\"1. Recipe Name\")\n",
        "    print(\"2. Cuisine Type\")\n",
        "    print(\"3. Ingredient\")\n",
        "    print(\"4. Preparation Time\")\n",
        "    choice = input(\"Enter your choice (1-4): \")\n",
        "\n",
        "    found = False\n",
        "    search_query = \"\"\n",
        "\n",
        "    if choice == '1':\n",
        "        search_query = input(\"Enter the recipe name to search for: \").lower()\n",
        "    elif choice == '2':\n",
        "        search_query = input(\"Enter the cuisine type to search for: \").lower()\n",
        "    elif choice == '3':\n",
        "        search_query = input(\"Enter an ingredient to search for: \").lower()\n",
        "    elif choice == '4':\n",
        "        search_query = input(\"Enter the preparation time (in minutes) to search for: \")\n",
        "    else:\n",
        "        print(\"Invalid choice.\")\n",
        "        return\n",
        "\n",
        "    with open(file_path, mode='r', encoding='utf-8') as file:\n",
        "        reader = csv.reader(file)\n",
        "        for row in reader:\n",
        "            if row:\n",
        "                if choice == '1' and search_query in row[1].lower():  # Search by name\n",
        "                    print(row)\n",
        "                    found = True\n",
        "                elif choice == '2' and search_query in row[4].lower():  # Search by cuisine\n",
        "                    print(row)\n",
        "                    found = True\n",
        "                elif choice == '3' and search_query in row[2].lower():  # Search by ingredient\n",
        "                    print(row)\n",
        "                    found = True\n",
        "                elif choice == '4' and search_query in row[5]:  # Search by prep time\n",
        "                    print(row)\n",
        "                    found = True\n",
        "\n",
        "    if not found:\n",
        "        print(\"No matching recipes found.\")\n",
        "\n",
        "# Display menu\n",
        "def display_menu():\n",
        "    print(\"\\nRecipe Management System\")\n",
        "    print(\"1. Add New Recipe\")\n",
        "    print(\"2. Update Existing Recipe\")\n",
        "    print(\"3. Delete Recipe\")\n",
        "    print(\"4. Search Recipes\")\n",
        "    print(\"5. Exit\")\n",
        "\n",
        "# Main function to run the program\n",
        "def main():\n",
        "    file_path = \"recipes.csv\"  # Adjust the file path as needed\n",
        "\n",
        "    while True:\n",
        "        display_menu()\n",
        "        choice = input(\"Enter your choice (1-5): \")\n",
        "\n",
        "        if choice == '1':\n",
        "            add_recipe(file_path)\n",
        "        elif choice == '2':\n",
        "            update_recipe(file_path)\n",
        "        elif choice == '3':\n",
        "            delete_recipe(file_path)\n",
        "        elif choice == '4':\n",
        "            search_recipes(file_path)\n",
        "        elif choice == '5':\n",
        "            print(\"Exiting the program.\")\n",
        "            break\n",
        "        else:\n",
        "            print(\"Invalid choice, please try again.\")\n",
        "\n",
        "# Run the program\n",
        "if __name__ == \"__main__\":\n",
        "    main()\n"
      ],
      "metadata": {
        "colab": {
          "base_uri": "https://localhost:8080/"
        },
        "id": "aFqv6YCjD-nL",
        "outputId": "f61eee33-bcd4-4b21-97ad-dc67640b2e58"
      },
      "execution_count": 34,
      "outputs": [
        {
          "output_type": "stream",
          "name": "stdout",
          "text": [
            "\n",
            "Recipe Management System\n",
            "1. Add New Recipe\n",
            "2. Update Existing Recipe\n",
            "3. Delete Recipe\n",
            "4. Search Recipes\n",
            "5. Exit\n",
            "Enter your choice (1-5): 1\n",
            "Enter recipe ID: 107\n",
            "Enter recipe name: Mango Bar\n",
            "Enter ingredients (separated by commas): Green Mango, spices, oil\n",
            "Enter cooking steps: Slice the mangoes, Dry this, mix with spices and oil, Dry\n",
            "Enter cuisine type: Bengali\n",
            "Enter preparation time (in minutes): 2880\n",
            "Recipe added successfully!\n",
            "\n",
            "Recipe Management System\n",
            "1. Add New Recipe\n",
            "2. Update Existing Recipe\n",
            "3. Delete Recipe\n",
            "4. Search Recipes\n",
            "5. Exit\n",
            "Enter your choice (1-5): 5\n",
            "Exiting the program.\n"
          ]
        }
      ]
    }
  ]
}